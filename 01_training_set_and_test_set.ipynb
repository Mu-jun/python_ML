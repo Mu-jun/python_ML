{
  "nbformat": 4,
  "nbformat_minor": 0,
  "metadata": {
    "colab": {
      "name": "01-training_set_and_test_set.ipynb",
      "provenance": [],
      "collapsed_sections": []
    },
    "kernelspec": {
      "name": "python3",
      "display_name": "Python 3"
    },
    "language_info": {
      "name": "python"
    }
  },
  "cells": [
    {
      "cell_type": "markdown",
      "source": [
        "# 훈련세트와 테스트세트 만들기"
      ],
      "metadata": {
        "id": "9wtPdvueMHpL"
      }
    },
    {
      "cell_type": "code",
      "execution_count": 1,
      "metadata": {
        "id": "op3tmNGIH7UI"
      },
      "outputs": [],
      "source": [
        "# 전체 데이터 셋 준비\n",
        "fish_length = [25.4, 26.3, 26.5, 29.0, 29.0, 29.7, 29.7, 30.0, 30.0, 30.7, 31.0, 31.0, \n",
        "                31.5, 32.0, 32.0, 32.0, 33.0, 33.0, 33.5, 33.5, 34.0, 34.0, 34.5, 35.0, \n",
        "                35.0, 35.0, 35.0, 36.0, 36.0, 37.0, 38.5, 38.5, 39.5, 41.0, 41.0, 9.8, \n",
        "                10.5, 10.6, 11.0, 11.2, 11.3, 11.8, 11.8, 12.0, 12.2, 12.4, 13.0, 14.3, 15.0]\n",
        "fish_weight = [242.0, 290.0, 340.0, 363.0, 430.0, 450.0, 500.0, 390.0, 450.0, 500.0, 475.0, 500.0, \n",
        "                500.0, 340.0, 600.0, 600.0, 700.0, 700.0, 610.0, 650.0, 575.0, 685.0, 620.0, 680.0, \n",
        "                700.0, 725.0, 720.0, 714.0, 850.0, 1000.0, 920.0, 955.0, 925.0, 975.0, 950.0, 6.7, \n",
        "                7.5, 7.0, 9.7, 9.8, 8.7, 10.0, 9.9, 9.8, 12.2, 13.4, 12.2, 19.7, 19.9]"
      ]
    },
    {
      "cell_type": "code",
      "source": [
        "fish_data = [[l,w] for l,w in zip(fish_length,fish_weight)]\n",
        "fish_target = [1]*35 + [0]*14\n",
        "display(fish_data)\n",
        "print(fish_target)"
      ],
      "metadata": {
        "colab": {
          "base_uri": "https://localhost:8080/",
          "height": 945
        },
        "id": "O9F_9tUiIS5G",
        "outputId": "be67ac1e-ddd0-4c3c-ec1c-3d7740399e33"
      },
      "execution_count": 2,
      "outputs": [
        {
          "output_type": "display_data",
          "data": {
            "text/plain": [
              "[[25.4, 242.0],\n",
              " [26.3, 290.0],\n",
              " [26.5, 340.0],\n",
              " [29.0, 363.0],\n",
              " [29.0, 430.0],\n",
              " [29.7, 450.0],\n",
              " [29.7, 500.0],\n",
              " [30.0, 390.0],\n",
              " [30.0, 450.0],\n",
              " [30.7, 500.0],\n",
              " [31.0, 475.0],\n",
              " [31.0, 500.0],\n",
              " [31.5, 500.0],\n",
              " [32.0, 340.0],\n",
              " [32.0, 600.0],\n",
              " [32.0, 600.0],\n",
              " [33.0, 700.0],\n",
              " [33.0, 700.0],\n",
              " [33.5, 610.0],\n",
              " [33.5, 650.0],\n",
              " [34.0, 575.0],\n",
              " [34.0, 685.0],\n",
              " [34.5, 620.0],\n",
              " [35.0, 680.0],\n",
              " [35.0, 700.0],\n",
              " [35.0, 725.0],\n",
              " [35.0, 720.0],\n",
              " [36.0, 714.0],\n",
              " [36.0, 850.0],\n",
              " [37.0, 1000.0],\n",
              " [38.5, 920.0],\n",
              " [38.5, 955.0],\n",
              " [39.5, 925.0],\n",
              " [41.0, 975.0],\n",
              " [41.0, 950.0],\n",
              " [9.8, 6.7],\n",
              " [10.5, 7.5],\n",
              " [10.6, 7.0],\n",
              " [11.0, 9.7],\n",
              " [11.2, 9.8],\n",
              " [11.3, 8.7],\n",
              " [11.8, 10.0],\n",
              " [11.8, 9.9],\n",
              " [12.0, 9.8],\n",
              " [12.2, 12.2],\n",
              " [12.4, 13.4],\n",
              " [13.0, 12.2],\n",
              " [14.3, 19.7],\n",
              " [15.0, 19.9]]"
            ]
          },
          "metadata": {}
        },
        {
          "output_type": "stream",
          "name": "stdout",
          "text": [
            "[1, 1, 1, 1, 1, 1, 1, 1, 1, 1, 1, 1, 1, 1, 1, 1, 1, 1, 1, 1, 1, 1, 1, 1, 1, 1, 1, 1, 1, 1, 1, 1, 1, 1, 1, 0, 0, 0, 0, 0, 0, 0, 0, 0, 0, 0, 0, 0, 0]\n"
          ]
        }
      ]
    },
    {
      "cell_type": "code",
      "source": [
        "from sklearn.neighbors import KNeighborsClassifier\n",
        "kn = KNeighborsClassifier()"
      ],
      "metadata": {
        "id": "yzDKkLgEIwDO"
      },
      "execution_count": 3,
      "outputs": []
    },
    {
      "cell_type": "code",
      "source": [
        "# 훈련 세트로 입력값 중 0~34번째 인덱스까지 사용\n",
        "train_input = fish_data[:35]\n",
        "# 훈련 세트로 타깃값 중 0~34번째 인덱스가지 사용\n",
        "train_target = fish_target[:35]\n",
        "# 테스트 세트로 입력값 중 35번째부터 마지막 인덱스까지 사용\n",
        "test_input = fish_data[35:]\n",
        "# 테스트 세트로 타깃값 중 35번째부터 마지막 인덱스까지 사용\n",
        "test_target = fish_target[35:]"
      ],
      "metadata": {
        "id": "m86aK69vJELY"
      },
      "execution_count": 4,
      "outputs": []
    },
    {
      "cell_type": "code",
      "source": [
        "kn = kn.fit(train_input, train_target)\n",
        "kn.score(test_input,test_target)"
      ],
      "metadata": {
        "colab": {
          "base_uri": "https://localhost:8080/"
        },
        "id": "q_KCS4iGNKaE",
        "outputId": "ff9e1842-8205-4b47-f8e6-8b79cdfc805f"
      },
      "execution_count": 5,
      "outputs": [
        {
          "output_type": "execute_result",
          "data": {
            "text/plain": [
              "0.0"
            ]
          },
          "metadata": {},
          "execution_count": 5
        }
      ]
    },
    {
      "cell_type": "markdown",
      "source": [
        "도미 데이터만 넣어서 빙어를 알지 못함"
      ],
      "metadata": {
        "id": "XV4qbBaZmAVL"
      }
    },
    {
      "cell_type": "code",
      "source": [
        "import numpy as np"
      ],
      "metadata": {
        "id": "Oe36FzBbNtXK"
      },
      "execution_count": 6,
      "outputs": []
    },
    {
      "cell_type": "code",
      "source": [
        "input_arr = np.array(fish_data)\n",
        "target_arr = np.array(fish_target)\n",
        "print(input_arr)\n",
        "print(input_arr.shape)"
      ],
      "metadata": {
        "colab": {
          "base_uri": "https://localhost:8080/"
        },
        "id": "mV2l9ZmPQeA_",
        "outputId": "af6bdb2c-65de-4cd6-9cc1-07a6d88a7440"
      },
      "execution_count": 7,
      "outputs": [
        {
          "output_type": "stream",
          "name": "stdout",
          "text": [
            "[[  25.4  242. ]\n",
            " [  26.3  290. ]\n",
            " [  26.5  340. ]\n",
            " [  29.   363. ]\n",
            " [  29.   430. ]\n",
            " [  29.7  450. ]\n",
            " [  29.7  500. ]\n",
            " [  30.   390. ]\n",
            " [  30.   450. ]\n",
            " [  30.7  500. ]\n",
            " [  31.   475. ]\n",
            " [  31.   500. ]\n",
            " [  31.5  500. ]\n",
            " [  32.   340. ]\n",
            " [  32.   600. ]\n",
            " [  32.   600. ]\n",
            " [  33.   700. ]\n",
            " [  33.   700. ]\n",
            " [  33.5  610. ]\n",
            " [  33.5  650. ]\n",
            " [  34.   575. ]\n",
            " [  34.   685. ]\n",
            " [  34.5  620. ]\n",
            " [  35.   680. ]\n",
            " [  35.   700. ]\n",
            " [  35.   725. ]\n",
            " [  35.   720. ]\n",
            " [  36.   714. ]\n",
            " [  36.   850. ]\n",
            " [  37.  1000. ]\n",
            " [  38.5  920. ]\n",
            " [  38.5  955. ]\n",
            " [  39.5  925. ]\n",
            " [  41.   975. ]\n",
            " [  41.   950. ]\n",
            " [   9.8    6.7]\n",
            " [  10.5    7.5]\n",
            " [  10.6    7. ]\n",
            " [  11.     9.7]\n",
            " [  11.2    9.8]\n",
            " [  11.3    8.7]\n",
            " [  11.8   10. ]\n",
            " [  11.8    9.9]\n",
            " [  12.     9.8]\n",
            " [  12.2   12.2]\n",
            " [  12.4   13.4]\n",
            " [  13.    12.2]\n",
            " [  14.3   19.7]\n",
            " [  15.    19.9]]\n",
            "(49, 2)\n"
          ]
        }
      ]
    },
    {
      "cell_type": "code",
      "source": [
        "# 인덱스 섞어서 인덱스를 참고해서 데이터 뽑아오기\n",
        "np.random.seed(42)\n",
        "index = np.arange(49)\n",
        "print(index)\n",
        "np.random.shuffle(index)\n",
        "print(index)"
      ],
      "metadata": {
        "colab": {
          "base_uri": "https://localhost:8080/"
        },
        "id": "b17OSMyTQwPM",
        "outputId": "c125e410-5d9c-4980-a9ab-bcd67066fead"
      },
      "execution_count": 8,
      "outputs": [
        {
          "output_type": "stream",
          "name": "stdout",
          "text": [
            "[ 0  1  2  3  4  5  6  7  8  9 10 11 12 13 14 15 16 17 18 19 20 21 22 23\n",
            " 24 25 26 27 28 29 30 31 32 33 34 35 36 37 38 39 40 41 42 43 44 45 46 47\n",
            " 48]\n",
            "[13 45 47 44 17 27 26 25 31 19 12  4 34  8  3  6 40 41 46 15  9 16 24 33\n",
            " 30  0 43 32  5 29 11 36  1 21  2 37 35 23 39 10 22 18 48 20  7 42 14 28\n",
            " 38]\n"
          ]
        }
      ]
    },
    {
      "cell_type": "code",
      "source": [
        "train_input = input_arr[index[:35]]\n",
        "train_target = target_arr[index[:35]]"
      ],
      "metadata": {
        "id": "hOtPWZxJRkU_"
      },
      "execution_count": 9,
      "outputs": []
    },
    {
      "cell_type": "code",
      "source": [
        "print(input_arr[13],train_input[0])"
      ],
      "metadata": {
        "colab": {
          "base_uri": "https://localhost:8080/"
        },
        "id": "04aP9SUtTvde",
        "outputId": "0d2d42d0-3dfe-4364-855c-eb010c522543"
      },
      "execution_count": 11,
      "outputs": [
        {
          "output_type": "stream",
          "name": "stdout",
          "text": [
            "[ 32. 340.] [ 32. 340.]\n"
          ]
        }
      ]
    },
    {
      "cell_type": "code",
      "source": [
        "test_input = input_arr[index[35:]]\n",
        "test_target = target_arr[index[35:]]"
      ],
      "metadata": {
        "id": "Fb_cVYMuUDAK"
      },
      "execution_count": 13,
      "outputs": []
    },
    {
      "cell_type": "code",
      "source": [
        "import matplotlib.pyplot as plt\n",
        "plt.scatter(train_input[:,0],train_input[:,1])\n",
        "plt.scatter(test_input[:,0],test_input[:,1])\n",
        "plt.xlabel('length')\n",
        "plt.ylabel('weight')\n",
        "plt.show()"
      ],
      "metadata": {
        "colab": {
          "base_uri": "https://localhost:8080/",
          "height": 279
        },
        "id": "WW675ezTUX_U",
        "outputId": "7eb0f61a-0147-41db-9e87-b549dd54d359"
      },
      "execution_count": 15,
      "outputs": [
        {
          "output_type": "display_data",
          "data": {
            "text/plain": [
              "<Figure size 432x288 with 1 Axes>"
            ],
            "image/png": "[encoded data removed]"
          },
          "metadata": {
            "needs_background": "light"
          }
        }
      ]
    },
    {
      "cell_type": "code",
      "source": [
        "from sklearn.neighbors import KNeighborsClassifier\n",
        "kn = KNeighborsClassifier()"
      ],
      "metadata": {
        "id": "IBIDGhVaYOlE"
      },
      "execution_count": 16,
      "outputs": []
    },
    {
      "cell_type": "code",
      "source": [
        "kn = kn.fit(train_input, train_target)\n",
        "kn.score(test_input,test_target)"
      ],
      "metadata": {
        "colab": {
          "base_uri": "https://localhost:8080/"
        },
        "id": "FJCvp7qpYpcB",
        "outputId": "be53ae54-27b8-48c0-f6d7-741389bb59c1"
      },
      "execution_count": 17,
      "outputs": [
        {
          "output_type": "execute_result",
          "data": {
            "text/plain": [
              "1.0"
            ]
          },
          "metadata": {},
          "execution_count": 17
        }
      ]
    },
    {
      "cell_type": "code",
      "source": [
        "kn.predict(test_input)"
      ],
      "metadata": {
        "colab": {
          "base_uri": "https://localhost:8080/"
        },
        "id": "_-gDYRECYz9g",
        "outputId": "0ae2f1a0-c77e-4d3f-980b-124e21d67b1d"
      },
      "execution_count": 18,
      "outputs": [
        {
          "output_type": "execute_result",
          "data": {
            "text/plain": [
              "array([0, 0, 1, 0, 1, 1, 1, 0, 1, 1, 0, 1, 1, 0])"
            ]
          },
          "metadata": {},
          "execution_count": 18
        }
      ]
    },
    {
      "cell_type": "code",
      "source": [
        "test_target"
      ],
      "metadata": {
        "colab": {
          "base_uri": "https://localhost:8080/"
        },
        "id": "R3Jqy8bCZNyb",
        "outputId": "73cfea2d-22dc-4aff-e388-50a705d7ddf3"
      },
      "execution_count": 19,
      "outputs": [
        {
          "output_type": "execute_result",
          "data": {
            "text/plain": [
              "array([0, 0, 1, 0, 1, 1, 1, 0, 1, 1, 0, 1, 1, 0])"
            ]
          },
          "metadata": {},
          "execution_count": 19
        }
      ]
    },
    {
      "cell_type": "code",
      "source": [
        "kn.predict([[25,150]])\n",
        "# 오류 발견"
      ],
      "metadata": {
        "colab": {
          "base_uri": "https://localhost:8080/"
        },
        "id": "Wa7ef1IrZooR",
        "outputId": "5198a94c-d249-4e75-8976-2a42c7a3cc78"
      },
      "execution_count": 21,
      "outputs": [
        {
          "output_type": "execute_result",
          "data": {
            "text/plain": [
              "array([0])"
            ]
          },
          "metadata": {},
          "execution_count": 21
        }
      ]
    },
    {
      "cell_type": "markdown",
      "source": [
        "# 넘파이로 데이터 준비하기"
      ],
      "metadata": {
        "id": "CzIBMSJPkZal"
      }
    },
    {
      "cell_type": "code",
      "source": [
        "# 넘파이로 데이터 준비하기\n",
        "fish_length = [25.4, 26.3, 26.5, 29.0, 29.0, 29.7, 29.7, 30.0, 30.0, 30.7, 31.0, 31.0, \n",
        "                31.5, 32.0, 32.0, 32.0, 33.0, 33.0, 33.5, 33.5, 34.0, 34.0, 34.5, 35.0, \n",
        "                35.0, 35.0, 35.0, 36.0, 36.0, 37.0, 38.5, 38.5, 39.5, 41.0, 41.0, 9.8, \n",
        "                10.5, 10.6, 11.0, 11.2, 11.3, 11.8, 11.8, 12.0, 12.2, 12.4, 13.0, 14.3, 15.0]\n",
        "fish_weight = [242.0, 290.0, 340.0, 363.0, 430.0, 450.0, 500.0, 390.0, 450.0, 500.0, 475.0, 500.0, \n",
        "                500.0, 340.0, 600.0, 600.0, 700.0, 700.0, 610.0, 650.0, 575.0, 685.0, 620.0, 680.0, \n",
        "                700.0, 725.0, 720.0, 714.0, 850.0, 1000.0, 920.0, 955.0, 925.0, 975.0, 950.0, 6.7, \n",
        "                7.5, 7.0, 9.7, 9.8, 8.7, 10.0, 9.9, 9.8, 12.2, 13.4, 12.2, 19.7, 19.9]               "
      ],
      "metadata": {
        "id": "TnEsxfcdkKr9"
      },
      "execution_count": null,
      "outputs": []
    },
    {
      "cell_type": "code",
      "source": [
        "import numpy as np"
      ],
      "metadata": {
        "id": "0CdvvlMAkxTi"
      },
      "execution_count": 22,
      "outputs": []
    },
    {
      "cell_type": "code",
      "source": [
        "np.column_stack(([1,2,3],[4,5,6]))"
      ],
      "metadata": {
        "colab": {
          "base_uri": "https://localhost:8080/"
        },
        "id": "dfYOGGlSk07-",
        "outputId": "ce85464a-051a-4174-9b9f-6ce8cb2fa3c6"
      },
      "execution_count": 23,
      "outputs": [
        {
          "output_type": "execute_result",
          "data": {
            "text/plain": [
              "array([[1, 4],\n",
              "       [2, 5],\n",
              "       [3, 6]])"
            ]
          },
          "metadata": {},
          "execution_count": 23
        }
      ]
    },
    {
      "cell_type": "code",
      "source": [
        "fish_data = np.column_stack((fish_length,fish_weight))\n",
        "fish_data[:5]"
      ],
      "metadata": {
        "colab": {
          "base_uri": "https://localhost:8080/"
        },
        "id": "uK9CfrDElEOR",
        "outputId": "d1fbd35a-a5f2-4b2c-beba-5d1d425950a7"
      },
      "execution_count": 25,
      "outputs": [
        {
          "output_type": "execute_result",
          "data": {
            "text/plain": [
              "array([[ 25.4, 242. ],\n",
              "       [ 26.3, 290. ],\n",
              "       [ 26.5, 340. ],\n",
              "       [ 29. , 363. ],\n",
              "       [ 29. , 430. ]])"
            ]
          },
          "metadata": {},
          "execution_count": 25
        }
      ]
    },
    {
      "cell_type": "code",
      "source": [
        "fish_target = np.concatenate((np.ones(35),np.zeros(14)))\n",
        "print(fish_target)"
      ],
      "metadata": {
        "colab": {
          "base_uri": "https://localhost:8080/"
        },
        "id": "5ZajGlX-lM8X",
        "outputId": "d415e6be-1d64-42b9-eb9e-ac8731233e46"
      },
      "execution_count": 28,
      "outputs": [
        {
          "output_type": "stream",
          "name": "stdout",
          "text": [
            "[1. 1. 1. 1. 1. 1. 1. 1. 1. 1. 1. 1. 1. 1. 1. 1. 1. 1. 1. 1. 1. 1. 1. 1.\n",
            " 1. 1. 1. 1. 1. 1. 1. 1. 1. 1. 1. 0. 0. 0. 0. 0. 0. 0. 0. 0. 0. 0. 0. 0.\n",
            " 0.]\n"
          ]
        }
      ]
    },
    {
      "cell_type": "markdown",
      "source": [
        "# 사이킷런으로 데이터 나누기"
      ],
      "metadata": {
        "id": "Lg7oLJTblzMz"
      }
    },
    {
      "cell_type": "code",
      "source": [
        "from sklearn.model_selection import train_test_split"
      ],
      "metadata": {
        "id": "bdAcgyLalinv"
      },
      "execution_count": 29,
      "outputs": []
    },
    {
      "cell_type": "code",
      "source": [
        "train_input, test_input, train_target, test_target = train_test_split(fish_data,\n",
        "                                                                      fish_target,\n",
        "                                                                      random_state=42)"
      ],
      "metadata": {
        "id": "F0c-CCeSnptC"
      },
      "execution_count": 33,
      "outputs": []
    },
    {
      "cell_type": "code",
      "source": [
        "print(train_input.shape, test_input.shape)"
      ],
      "metadata": {
        "colab": {
          "base_uri": "https://localhost:8080/"
        },
        "id": "15OVFL_Pn6Bi",
        "outputId": "7e4a52c0-0e75-46a2-bcf5-ad5020a7d927"
      },
      "execution_count": 34,
      "outputs": [
        {
          "output_type": "stream",
          "name": "stdout",
          "text": [
            "(36, 2) (13, 2)\n"
          ]
        }
      ]
    },
    {
      "cell_type": "code",
      "source": [
        "print(train_target.shape,test_target.shape)"
      ],
      "metadata": {
        "colab": {
          "base_uri": "https://localhost:8080/"
        },
        "id": "XogxEInaoIRz",
        "outputId": "a94fa4f4-5a63-4619-f376-46b21ae0111e"
      },
      "execution_count": 35,
      "outputs": [
        {
          "output_type": "stream",
          "name": "stdout",
          "text": [
            "(36,) (13,)\n"
          ]
        }
      ]
    },
    {
      "cell_type": "code",
      "source": [
        "print(test_target)"
      ],
      "metadata": {
        "colab": {
          "base_uri": "https://localhost:8080/"
        },
        "id": "rJ2KK8pRobsP",
        "outputId": "395eeb1e-673f-427c-a782-a4d652571b1e"
      },
      "execution_count": 36,
      "outputs": [
        {
          "output_type": "stream",
          "name": "stdout",
          "text": [
            "[1. 0. 0. 0. 1. 1. 1. 1. 1. 1. 1. 1. 1.]\n"
          ]
        }
      ]
    },
    {
      "cell_type": "markdown",
      "source": [
        "도미만 너무 많이 테스트하고 있음"
      ],
      "metadata": {
        "id": "hsN7rGcbpOqa"
      }
    },
    {
      "cell_type": "code",
      "source": [
        "(train_input, test_input,\n",
        " train_target, test_target) = train_test_split(fish_data,\n",
        "                                               fish_target,\n",
        "                                               stratify = fish_target, # 클래스 비율에 맞게 데이터 나누기\n",
        "                                               random_state=42)"
      ],
      "metadata": {
        "id": "tUaUldEPpIte"
      },
      "execution_count": 43,
      "outputs": []
    },
    {
      "cell_type": "code",
      "source": [
        "print(test_target)"
      ],
      "metadata": {
        "colab": {
          "base_uri": "https://localhost:8080/"
        },
        "id": "eaagmd5WpdKJ",
        "outputId": "ee0e333d-7e35-4be9-ea57-ef6895d7499d"
      },
      "execution_count": 44,
      "outputs": [
        {
          "output_type": "stream",
          "name": "stdout",
          "text": [
            "[0. 0. 1. 0. 1. 0. 1. 1. 1. 1. 1. 1. 1.]\n"
          ]
        }
      ]
    },
    {
      "cell_type": "code",
      "source": [
        "from sklearn.neighbors import KNeighborsClassifier\n",
        "kn = KNeighborsClassifier()\n",
        "kn.fit(train_input,train_target)\n",
        "kn.score(test_input,test_target)"
      ],
      "metadata": {
        "colab": {
          "base_uri": "https://localhost:8080/"
        },
        "id": "jT2Yiaa3qKQS",
        "outputId": "56411b54-65a6-44a2-f014-80a0329562f4"
      },
      "execution_count": 45,
      "outputs": [
        {
          "output_type": "execute_result",
          "data": {
            "text/plain": [
              "1.0"
            ]
          },
          "metadata": {},
          "execution_count": 45
        }
      ]
    },
    {
      "cell_type": "code",
      "source": [
        "kn.predict([[25,150]])"
      ],
      "metadata": {
        "colab": {
          "base_uri": "https://localhost:8080/"
        },
        "id": "vhuK0fbJrrEr",
        "outputId": "9f281325-602d-451e-dd98-57f3427b91cf"
      },
      "execution_count": 47,
      "outputs": [
        {
          "output_type": "execute_result",
          "data": {
            "text/plain": [
              "array([0.])"
            ]
          },
          "metadata": {},
          "execution_count": 47
        }
      ]
    },
    {
      "cell_type": "markdown",
      "source": [
        "## 시각화해보기"
      ],
      "metadata": {
        "id": "7bJnurZzr9DQ"
      }
    },
    {
      "cell_type": "code",
      "source": [
        "import matplotlib.pyplot as plt\n",
        "plt.scatter(train_input[:,0],train_input[:,1])\n",
        "plt.scatter(25,150,marker='^')\n",
        "plt.xlabel('length')\n",
        "plt.ylabel('weight')\n",
        "plt.show()"
      ],
      "metadata": {
        "colab": {
          "base_uri": "https://localhost:8080/",
          "height": 279
        },
        "id": "tKzMsdILrwRZ",
        "outputId": "948fc76b-0f3b-4fcf-ce60-90f5f144ae7c"
      },
      "execution_count": 50,
      "outputs": [
        {
          "output_type": "display_data",
          "data": {
            "text/plain": [
              "<Figure size 432x288 with 1 Axes>"
            ],
            "image/png": "[encoded data removed]"
          },
          "metadata": {
            "needs_background": "light"
          }
        }
      ]
    },
    {
      "cell_type": "code",
      "source": [
        "# 이웃한 데이터 찾아보기\n",
        "distances, indexes = kn.kneighbors([[25,150]])"
      ],
      "metadata": {
        "id": "cvKgVie7skpX"
      },
      "execution_count": 52,
      "outputs": []
    },
    {
      "cell_type": "code",
      "source": [
        "plt.scatter(train_input[:,0],train_input[:,1])\n",
        "plt.scatter(25,150,marker='^')\n",
        "plt.scatter(train_input[indexes,0],train_input[indexes,1],marker='D')\n",
        "plt.xlabel('length')\n",
        "plt.ylabel('weight')\n",
        "plt.show()"
      ],
      "metadata": {
        "colab": {
          "base_uri": "https://localhost:8080/",
          "height": 279
        },
        "id": "xjJ5500atOD_",
        "outputId": "56af2137-4372-4933-d5d5-1601577f700b"
      },
      "execution_count": 58,
      "outputs": [
        {
          "output_type": "display_data",
          "data": {
            "text/plain": [
              "<Figure size 432x288 with 1 Axes>"
            ],
            "image/png": "[encoded data removed]"
          },
          "metadata": {
            "needs_background": "light"
          }
        }
      ]
    },
    {
      "cell_type": "markdown",
      "source": [
        "이웃한 데이터 5개를 이상하게 뽑은 것 처럼 보인다."
      ],
      "metadata": {
        "id": "uHAx6W0hDOI7"
      }
    },
    {
      "cell_type": "code",
      "source": [
        "print(train_input[indexes])"
      ],
      "metadata": {
        "colab": {
          "base_uri": "https://localhost:8080/"
        },
        "id": "W-712FuDtiv5",
        "outputId": "a7127622-6827-4f4e-97fa-ba718d12f79e"
      },
      "execution_count": 59,
      "outputs": [
        {
          "output_type": "stream",
          "name": "stdout",
          "text": [
            "[[[ 25.4 242. ]\n",
            "  [ 15.   19.9]\n",
            "  [ 14.3  19.7]\n",
            "  [ 13.   12.2]\n",
            "  [ 12.2  12.2]]]\n"
          ]
        }
      ]
    },
    {
      "cell_type": "code",
      "source": [
        "print(train_target[indexes])"
      ],
      "metadata": {
        "colab": {
          "base_uri": "https://localhost:8080/"
        },
        "id": "deyh951wuC6A",
        "outputId": "82da2b52-d4b5-412e-8cfc-13605ea2e01c"
      },
      "execution_count": 60,
      "outputs": [
        {
          "output_type": "stream",
          "name": "stdout",
          "text": [
            "[[1. 0. 0. 0. 0.]]\n"
          ]
        }
      ]
    },
    {
      "cell_type": "code",
      "source": [
        "print(distances)"
      ],
      "metadata": {
        "colab": {
          "base_uri": "https://localhost:8080/"
        },
        "id": "CRITlrdcuIYr",
        "outputId": "7b9b6e82-ed5e-4eba-b832-8cfa7cac0c39"
      },
      "execution_count": 61,
      "outputs": [
        {
          "output_type": "stream",
          "name": "stdout",
          "text": [
            "[[ 92.00086956 130.48375378 130.73859415 138.32150953 138.39320793]]\n"
          ]
        }
      ]
    },
    {
      "cell_type": "markdown",
      "source": [
        "수칙적으로 본다면 빙어랑 가까운게 맞다"
      ],
      "metadata": {
        "id": "_EaF2WfaEHkz"
      }
    },
    {
      "cell_type": "markdown",
      "source": [
        "# 데이터 정규화"
      ],
      "metadata": {
        "id": "naSq2k8xEM-j"
      }
    },
    {
      "cell_type": "code",
      "source": [
        "plt.scatter(train_input[:,0],train_input[:,1])\n",
        "plt.scatter(25,150,marker='^')\n",
        "plt.scatter(train_input[indexes,0],train_input[indexes,1],marker='D')\n",
        "plt.xlim((0,1000))\n",
        "plt.ylim((0,1000))\n",
        "plt.xlabel('length')\n",
        "plt.ylabel('weight')\n",
        "plt.show()"
      ],
      "metadata": {
        "colab": {
          "base_uri": "https://localhost:8080/",
          "height": 283
        },
        "id": "gR1_ArUhuKK3",
        "outputId": "cd15db26-18d4-467c-9196-784c068ac0ad"
      },
      "execution_count": 62,
      "outputs": [
        {
          "output_type": "display_data",
          "data": {
            "text/plain": [
              "<Figure size 432x288 with 1 Axes>"
            ],
            "image/png": "[encoded data removed]"
          },
          "metadata": {
            "needs_background": "light"
          }
        }
      ]
    },
    {
      "cell_type": "markdown",
      "source": [
        "x축과 y축의 범위를 동일하게 맞추었더니 이웃한 데이터를 제대로 선택한것으로 보인다."
      ],
      "metadata": {
        "id": "FpMVCzTAFPjD"
      }
    },
    {
      "cell_type": "code",
      "source": [
        "# 표준점수로 바꾸기\n",
        "mean = np.mean(train_input, axis=0)\n",
        "std = np.std(train_input, axis=0)\n",
        "print(mean,std)"
      ],
      "metadata": {
        "colab": {
          "base_uri": "https://localhost:8080/"
        },
        "id": "avzcSde0FD0l",
        "outputId": "b25eef10-0482-4f11-feb7-7387005f8a66"
      },
      "execution_count": 71,
      "outputs": [
        {
          "output_type": "stream",
          "name": "stdout",
          "text": [
            "[ 27.29722222 454.09722222] [  9.98244253 323.29893931]\n"
          ]
        }
      ]
    },
    {
      "cell_type": "code",
      "source": [
        "train_scaled = (train_input - mean) / std"
      ],
      "metadata": {
        "id": "fvQAe0jHJwJr"
      },
      "execution_count": 72,
      "outputs": []
    },
    {
      "cell_type": "code",
      "source": [
        "new = ([25,150]-mean) / std\n",
        "\n",
        "plt.scatter(train_scaled[:,0],train_scaled[:,1])\n",
        "plt.scatter(new[0],new[1],marker='^')\n",
        "plt.xlim(-2,2)\n",
        "plt.ylim(-2,2)\n",
        "plt.xlabel('length')\n",
        "plt.ylabel('weight')\n",
        "plt.show()"
      ],
      "metadata": {
        "colab": {
          "base_uri": "https://localhost:8080/",
          "height": 283
        },
        "id": "-OTTk17uJ93l",
        "outputId": "52905d8a-0876-4819-d218-cc9c5bdf1c9b"
      },
      "execution_count": 79,
      "outputs": [
        {
          "output_type": "display_data",
          "data": {
            "text/plain": [
              "<Figure size 432x288 with 1 Axes>"
            ],
            "image/png": "[encoded data removed]"
          },
          "metadata": {
            "needs_background": "light"
          }
        }
      ]
    },
    {
      "cell_type": "code",
      "source": [
        "# 전처리된 데이터로 모델 훈련하기\n",
        "kn.fit(train_scaled,train_target)"
      ],
      "metadata": {
        "colab": {
          "base_uri": "https://localhost:8080/"
        },
        "id": "N7HjmW4gKGFf",
        "outputId": "120abe00-826f-4e6a-dc2f-f905463e2e0d"
      },
      "execution_count": 80,
      "outputs": [
        {
          "output_type": "execute_result",
          "data": {
            "text/plain": [
              "KNeighborsClassifier()"
            ]
          },
          "metadata": {},
          "execution_count": 80
        }
      ]
    },
    {
      "cell_type": "code",
      "source": [
        "test_scaled = (test_input - mean) / std"
      ],
      "metadata": {
        "id": "hLKlQkU-Mv8R"
      },
      "execution_count": 81,
      "outputs": []
    },
    {
      "cell_type": "code",
      "source": [
        "kn.score(test_scaled,test_target)"
      ],
      "metadata": {
        "colab": {
          "base_uri": "https://localhost:8080/"
        },
        "id": "WmvwRN62M2vA",
        "outputId": "e60f0f5f-2b02-4ea7-b348-964010e9ef33"
      },
      "execution_count": 82,
      "outputs": [
        {
          "output_type": "execute_result",
          "data": {
            "text/plain": [
              "1.0"
            ]
          },
          "metadata": {},
          "execution_count": 82
        }
      ]
    },
    {
      "cell_type": "code",
      "source": [
        "kn.predict([new])"
      ],
      "metadata": {
        "colab": {
          "base_uri": "https://localhost:8080/"
        },
        "id": "K09Y9kSZM66G",
        "outputId": "53c1ef57-a7a5-405b-fd8e-18a7083b6aa4"
      },
      "execution_count": 86,
      "outputs": [
        {
          "output_type": "execute_result",
          "data": {
            "text/plain": [
              "array([1.])"
            ]
          },
          "metadata": {},
          "execution_count": 86
        }
      ]
    },
    {
      "cell_type": "code",
      "source": [
        "distances, indexes = kn.kneighbors([new])\n",
        "plt.scatter(train_scaled[:,0],train_scaled[:,1])\n",
        "plt.scatter(new[0],new[1],marker='^')\n",
        "plt.scatter(train_scaled[indexes,0],train_scaled[indexes,1],marker='D')\n",
        "plt.xlabel('length')\n",
        "plt.ylabel('weight')\n",
        "plt.show()"
      ],
      "metadata": {
        "colab": {
          "base_uri": "https://localhost:8080/",
          "height": 279
        },
        "id": "9_jgpFPdM-h_",
        "outputId": "808a1af8-de3f-451a-851b-c18ca5974c2e"
      },
      "execution_count": 89,
      "outputs": [
        {
          "output_type": "display_data",
          "data": {
            "text/plain": [
              "<Figure size 432x288 with 1 Axes>"
            ],
            "image/png": "[encoded data removed]"
          },
          "metadata": {
            "needs_background": "light"
          }
        }
      ]
    },
    {
      "cell_type": "code",
      "source": [
        ""
      ],
      "metadata": {
        "id": "em4Lz4r_N4qq"
      },
      "execution_count": null,
      "outputs": []
    }
  ]
}